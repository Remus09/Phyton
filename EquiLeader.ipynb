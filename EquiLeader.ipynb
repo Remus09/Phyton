{
 "cells": [
  {
   "cell_type": "markdown",
   "metadata": {},
   "source": [
    "A non-empty array A consisting of N integers is given.\n",
    "\n",
    "The leader of this array is the value that occurs in more than half of the elements of A.\n",
    "\n",
    "An equi leader is an index S such that 0 ≤ S < N − 1 and two sequences A[0], A[1], ..., A[S] and A[S + 1], A[S + 2], ..., A[N − 1] have leaders of the same value.\n",
    "\n",
    "For example, given array A such that:\n",
    "\n",
    "    A[0] = 4\n",
    "    A[1] = 3\n",
    "    A[2] = 4\n",
    "    A[3] = 4\n",
    "    A[4] = 4\n",
    "    A[5] = 2\n",
    "we can find two equi leaders:\n",
    "\n",
    "0, because sequences: (4) and (3, 4, 4, 4, 2) have the same leader, whose value is 4.\n",
    "2, because sequences: (4, 3, 4) and (4, 4, 2) have the same leader, whose value is 4.\n",
    "The goal is to count the number of equi leaders.\n",
    "\n",
    "Write a function:\n",
    "\n",
    "def solution(A)\n",
    "\n",
    "that, given a non-empty array A consisting of N integers, returns the number of equi leaders.\n",
    "\n",
    "For example, given:\n",
    "\n",
    "    A[0] = 4\n",
    "    A[1] = 3\n",
    "    A[2] = 4\n",
    "    A[3] = 4\n",
    "    A[4] = 4\n",
    "    A[5] = 2\n",
    "the function should return 2, as explained above.\n",
    "\n",
    "Write an efficient algorithm for the following assumptions:\n",
    "\n",
    "N is an integer within the range [1..100,000];\n",
    "each element of array A is an integer within the range [−1,000,000,000..1,000,000,000]."
   ]
  },
  {
   "cell_type": "code",
   "execution_count": 32,
   "metadata": {},
   "outputs": [],
   "source": [
    "def solution(A):\n",
    "    \n",
    "    def findLeader(A):\n",
    "        candidate = ''\n",
    "        counter = 0\n",
    "        \n",
    "        for element in A:\n",
    "            if candidate == '':\n",
    "                candidate = element\n",
    "                counter +=1\n",
    "            else:\n",
    "                if element != candidate:\n",
    "                    counter -=1\n",
    "                    if counter == 0:\n",
    "                        candidate = ''\n",
    "                else:\n",
    "                    counter +=1\n",
    "        \n",
    "        if counter == 0:\n",
    "            return -1\n",
    "        \n",
    "        occur_count = A.count(candidate)\n",
    "        \n",
    "        \n",
    "        if occur_count>len(A)/2:\n",
    "            return candidate\n",
    "     \n",
    "    count_equi = 0\n",
    "    \n",
    "    \n",
    "    #Solution #1\n",
    "    for idx in range(len(A)-1):\n",
    "        #print(idx)\n",
    "        #print(A[:idx+1])\n",
    "        #print(A[idx+1:])\n",
    "        if findLeader(A[:idx+1]) == findLeader(A[idx+1:]):\n",
    "            count_equi +=1\n",
    "    \n",
    "    return count_equi\n",
    "\n",
    "    #Solution #2\n",
    "    equi_cnt = 0\n",
    "    cnt_to_the_left = 0\n",
    "    for idx, value in enumerate(A):\n",
    "        if value == candidate:\n",
    "            cnt_to_the_left +=1\n",
    "        if cnt_to_the_left > (idx + 1)//2 and \\\n",
    "            cnt - cnt_to_the_left > (len(A) - idx - 1) //2:\n",
    "            equi_cnt += 1\n",
    " \n",
    "    return equi_cnt\n",
    "    "
   ]
  },
  {
   "cell_type": "code",
   "execution_count": 30,
   "metadata": {},
   "outputs": [],
   "source": [
    "A = [4,3,4,4,4,2]"
   ]
  },
  {
   "cell_type": "code",
   "execution_count": 31,
   "metadata": {},
   "outputs": [
    {
     "name": "stdout",
     "output_type": "stream",
     "text": [
      "0\n",
      "[4]\n",
      "[3, 4, 4, 4, 2]\n",
      "1\n",
      "[4, 3]\n",
      "[4, 4, 4, 2]\n",
      "2\n",
      "[4, 3, 4]\n",
      "[4, 4, 2]\n",
      "3\n",
      "[4, 3, 4, 4]\n",
      "[4, 2]\n",
      "4\n",
      "[4, 3, 4, 4, 4]\n",
      "[2]\n"
     ]
    },
    {
     "data": {
      "text/plain": [
       "2"
      ]
     },
     "execution_count": 31,
     "metadata": {},
     "output_type": "execute_result"
    }
   ],
   "source": [
    "solution(A)"
   ]
  },
  {
   "cell_type": "code",
   "execution_count": 25,
   "metadata": {},
   "outputs": [
    {
     "name": "stdout",
     "output_type": "stream",
     "text": [
      "0\n",
      "[4]\n",
      "[3, 4, 4, 4, 2]\n",
      "1\n",
      "[4, 3]\n",
      "[4, 4, 4, 2]\n",
      "2\n",
      "[4, 3, 4]\n",
      "[4, 4, 2]\n",
      "3\n",
      "[4, 3, 4, 4]\n",
      "[4, 2]\n",
      "4\n",
      "[4, 3, 4, 4, 4]\n",
      "[2]\n"
     ]
    }
   ],
   "source": [
    "A = [4,3,4,4,4,2]\n",
    "for idx in range(len(A)-1):\n",
    "    print(idx)\n",
    "    print(A[:idx+1])\n",
    "    print(A[idx+1:])"
   ]
  },
  {
   "cell_type": "code",
   "execution_count": null,
   "metadata": {},
   "outputs": [],
   "source": []
  }
 ],
 "metadata": {
  "kernelspec": {
   "display_name": "Python 3",
   "language": "python",
   "name": "python3"
  },
  "language_info": {
   "codemirror_mode": {
    "name": "ipython",
    "version": 3
   },
   "file_extension": ".py",
   "mimetype": "text/x-python",
   "name": "python",
   "nbconvert_exporter": "python",
   "pygments_lexer": "ipython3",
   "version": "3.6.5"
  }
 },
 "nbformat": 4,
 "nbformat_minor": 2
}
