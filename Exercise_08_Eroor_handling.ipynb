{
 "cells": [
  {
   "cell_type": "code",
   "execution_count": null,
   "metadata": {},
   "outputs": [],
   "source": [
    "def func(a, b):\n",
    "    return a + b\n",
    "    "
   ]
  },
  {
   "cell_type": "code",
   "execution_count": null,
   "metadata": {},
   "outputs": [],
   "source": [
    "func(10,20)"
   ]
  },
  {
   "cell_type": "code",
   "execution_count": null,
   "metadata": {},
   "outputs": [],
   "source": [
    "number1 = 10"
   ]
  },
  {
   "cell_type": "code",
   "execution_count": null,
   "metadata": {},
   "outputs": [],
   "source": [
    "number2 = input('Please enter the 2nd number')"
   ]
  },
  {
   "cell_type": "code",
   "execution_count": null,
   "metadata": {},
   "outputs": [],
   "source": [
    "func(number1,number2)"
   ]
  },
  {
   "cell_type": "code",
   "execution_count": null,
   "metadata": {},
   "outputs": [],
   "source": [
    "try:\n",
    "    #Code to be executed:\n",
    "    \n",
    "    result = 10 + 10\n",
    "    \n",
    "except:\n",
    "    print('It seems that we have an error')\n",
    "\n",
    "else:\n",
    "    print('Coding went well')\n",
    "    print(result)"
   ]
  },
  {
   "cell_type": "code",
   "execution_count": null,
   "metadata": {},
   "outputs": [],
   "source": [
    "try:\n",
    "    f = open('testfile', mode = 'r')\n",
    "    f.write('Write a test line')\n",
    "except TypeError:\n",
    "    print('There was an type erorr')\n",
    "except:\n",
    "    print('All other exceptions')\n",
    "finally:\n",
    "    print('I run the code whatever it takes')"
   ]
  },
  {
   "cell_type": "code",
   "execution_count": 1,
   "metadata": {},
   "outputs": [],
   "source": [
    "def get_int_number():\n",
    "    \n",
    "    while True:\n",
    "        try:\n",
    "            results = int(input('Please provide an input'))\n",
    "        except:\n",
    "            print('Whopa! Wrong value!')\n",
    "            continue\n",
    "        else:\n",
    "            print('You entered a correct value!')\n",
    "            break\n",
    "        finally:\n",
    "            print('Thank you!')\n"
   ]
  },
  {
   "cell_type": "code",
   "execution_count": 3,
   "metadata": {},
   "outputs": [
    {
     "name": "stdout",
     "output_type": "stream",
     "text": [
      "Please provide an inputq\n",
      "Whopa! Wrong value!\n",
      "Thank you!\n",
      "Please provide an inputq\n",
      "Whopa! Wrong value!\n",
      "Thank you!\n",
      "Please provide an inputwer\n",
      "Whopa! Wrong value!\n",
      "Thank you!\n",
      "Please provide an input23\n",
      "You entered a correct value!\n",
      "Thank you!\n"
     ]
    }
   ],
   "source": [
    "get_int_number()"
   ]
  },
  {
   "cell_type": "code",
   "execution_count": null,
   "metadata": {},
   "outputs": [],
   "source": []
  }
 ],
 "metadata": {
  "kernelspec": {
   "display_name": "Python 3",
   "language": "python",
   "name": "python3"
  },
  "language_info": {
   "codemirror_mode": {
    "name": "ipython",
    "version": 3
   },
   "file_extension": ".py",
   "mimetype": "text/x-python",
   "name": "python",
   "nbconvert_exporter": "python",
   "pygments_lexer": "ipython3",
   "version": "3.6.4"
  }
 },
 "nbformat": 4,
 "nbformat_minor": 2
}
