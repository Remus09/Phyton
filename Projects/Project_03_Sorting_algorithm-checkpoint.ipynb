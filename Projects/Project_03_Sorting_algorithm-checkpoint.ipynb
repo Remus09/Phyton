{
 "cells": [
  {
   "cell_type": "code",
   "execution_count": 6,
   "metadata": {},
   "outputs": [],
   "source": [
    "#Bubble sorting algorithm\n",
    "\n",
    "mylist = [1,2,10,34,5,7,9,11,56]"
   ]
  },
  {
   "cell_type": "code",
   "execution_count": 7,
   "metadata": {},
   "outputs": [
    {
     "data": {
      "text/plain": [
       "[1, 2, 10, 34, 5, 7, 9, 11, 56]"
      ]
     },
     "execution_count": 7,
     "metadata": {},
     "output_type": "execute_result"
    }
   ],
   "source": [
    "mylist"
   ]
  },
  {
   "cell_type": "code",
   "execution_count": 8,
   "metadata": {},
   "outputs": [],
   "source": [
    "#Bubble sort\n",
    "def BubbleSort(mylist):\n",
    "    \n",
    "    n = len(mylist)\n",
    "    \n",
    "    for i in range(n):\n",
    "        for j in range(0, n-i-1):\n",
    "            if mylist[j] > mylist[j + 1]:\n",
    "                mylist[j], mylist[j+1] = mylist[j+1], mylist[j]\n",
    "    "
   ]
  },
  {
   "cell_type": "code",
   "execution_count": 9,
   "metadata": {},
   "outputs": [],
   "source": [
    "list01 = [1,2,10,65,12,4,100,26]"
   ]
  },
  {
   "cell_type": "code",
   "execution_count": 10,
   "metadata": {},
   "outputs": [
    {
     "data": {
      "text/plain": [
       "[1, 2, 10, 65, 12, 4, 100, 26]"
      ]
     },
     "execution_count": 10,
     "metadata": {},
     "output_type": "execute_result"
    }
   ],
   "source": [
    "list01"
   ]
  },
  {
   "cell_type": "code",
   "execution_count": 11,
   "metadata": {},
   "outputs": [],
   "source": [
    "BubbleSort(list01)"
   ]
  },
  {
   "cell_type": "code",
   "execution_count": 12,
   "metadata": {},
   "outputs": [
    {
     "data": {
      "text/plain": [
       "[1, 2, 4, 10, 12, 26, 65, 100]"
      ]
     },
     "execution_count": 12,
     "metadata": {},
     "output_type": "execute_result"
    }
   ],
   "source": [
    "list01"
   ]
  },
  {
   "cell_type": "code",
   "execution_count": 20,
   "metadata": {},
   "outputs": [
    {
     "name": "stdout",
     "output_type": "stream",
     "text": [
      "The initial list is [1, 2, 5, 88, 0, 34, 56, 23, 17]\n",
      "After partition [1, 2, 5, 0, 17, 34, 56, 23, 88]\n",
      "The initial list is [1, 2, 5, 0, 17, 34, 56, 23, 88]\n",
      "After partition [0, 2, 5, 1, 17, 34, 56, 23, 88]\n",
      "The initial list is [0, 2, 5, 1, 17, 34, 56, 23, 88]\n",
      "After partition [0, 1, 5, 2, 17, 34, 56, 23, 88]\n",
      "The initial list is [0, 1, 5, 2, 17, 34, 56, 23, 88]\n",
      "After partition [0, 1, 2, 5, 17, 34, 56, 23, 88]\n",
      "The initial list is [0, 1, 2, 5, 17, 34, 56, 23, 88]\n",
      "After partition [0, 1, 2, 5, 17, 34, 56, 23, 88]\n",
      "The initial list is [0, 1, 2, 5, 17, 34, 56, 23, 88]\n",
      "After partition [0, 1, 2, 5, 17, 23, 56, 34, 88]\n",
      "The initial list is [0, 1, 2, 5, 17, 23, 56, 34, 88]\n",
      "After partition [0, 1, 2, 5, 17, 23, 34, 56, 88]\n"
     ]
    }
   ],
   "source": [
    "#Quicksort :\n",
    "\n",
    "def partition(mylist, low, high):\n",
    "    print(\"The initial list is {}\".format(mylist))\n",
    "    \n",
    "    #Can enhance so that pivot is the median of the value, i.e. pivot = (low + high) /2\n",
    "    pivot = mylist[high]\n",
    "    index = low\n",
    "    current = low\n",
    "    \n",
    "    while(current < high):\n",
    "        if (mylist[current] < pivot):\n",
    "            mylist[index], mylist[current] = mylist[current], mylist[index]\n",
    "            index += 1\n",
    "        current += 1\n",
    "    mylist[index], mylist[high] = mylist[high], mylist[index]\n",
    "    print(\"After partition {}\".format(mylist))\n",
    "    return index\n",
    "\n",
    "def quicksort(mylist, low, high):\n",
    "    if (low < high):\n",
    "          index = partition(mylist, low, high)\n",
    "          quicksort(mylist, low, index - 1)\n",
    "          quicksort(mylist,index + 1, high)\n",
    "\n",
    "lista02 = [1,2,5,88,0,34,56,23,17]\n",
    "quicksort(lista02,0,8)\n",
    "    "
   ]
  },
  {
   "cell_type": "code",
   "execution_count": null,
   "metadata": {},
   "outputs": [],
   "source": []
  }
 ],
 "metadata": {
  "kernelspec": {
   "display_name": "Python 3",
   "language": "python",
   "name": "python3"
  },
  "language_info": {
   "codemirror_mode": {
    "name": "ipython",
    "version": 3
   },
   "file_extension": ".py",
   "mimetype": "text/x-python",
   "name": "python",
   "nbconvert_exporter": "python",
   "pygments_lexer": "ipython3",
   "version": "3.6.4"
  }
 },
 "nbformat": 4,
 "nbformat_minor": 2
}
