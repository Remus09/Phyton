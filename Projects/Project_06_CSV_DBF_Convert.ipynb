{
 "cells": [
  {
   "cell_type": "code",
   "execution_count": 120,
   "metadata": {},
   "outputs": [],
   "source": [
    "import pandas as pd\n",
    "import numpy as np\n",
    "import io \n",
    "import dbf\n",
    "import simpledbf"
   ]
  },
  {
   "cell_type": "code",
   "execution_count": 122,
   "metadata": {},
   "outputs": [],
   "source": [
    "dbf_file = Dbf5('C://Users//Toni Stan//Desktop//AZAP//05. TH//01. Input//Liability//02. Input Conversion//input_conversion_th_2.dbf')"
   ]
  },
  {
   "cell_type": "code",
   "execution_count": 109,
   "metadata": {},
   "outputs": [],
   "source": [
    "csv_file = dbf_file.to_csv('C:/Users/Toni Stan/Desktop/Phyton/Projects/test.csv')"
   ]
  },
  {
   "cell_type": "code",
   "execution_count": 123,
   "metadata": {},
   "outputs": [
    {
     "data": {
      "text/html": [
       "<div>\n",
       "<style scoped>\n",
       "    .dataframe tbody tr th:only-of-type {\n",
       "        vertical-align: middle;\n",
       "    }\n",
       "\n",
       "    .dataframe tbody tr th {\n",
       "        vertical-align: top;\n",
       "    }\n",
       "\n",
       "    .dataframe thead th {\n",
       "        text-align: right;\n",
       "    }\n",
       "</style>\n",
       "<table border=\"1\" class=\"dataframe\">\n",
       "  <thead>\n",
       "    <tr style=\"text-align: right;\">\n",
       "      <th></th>\n",
       "      <th>POL_NUM</th>\n",
       "      <th>PROD_CODE</th>\n",
       "      <th>PROD_ADJ</th>\n",
       "      <th>PROM_TP</th>\n",
       "      <th>BRANCH</th>\n",
       "      <th>SUBBRCH</th>\n",
       "      <th>PLAN_CODE</th>\n",
       "      <th>BANK</th>\n",
       "      <th>PID_0</th>\n",
       "      <th>COUNTRY</th>\n",
       "      <th>...</th>\n",
       "      <th>HRG</th>\n",
       "      <th>TOPUP_FLAG</th>\n",
       "      <th>ISSUE_YEAR</th>\n",
       "      <th>ISSUE_MTH</th>\n",
       "      <th>TP_MOD_IDX</th>\n",
       "      <th>REINS_MORT</th>\n",
       "      <th>PRODUCT</th>\n",
       "      <th>GROUP</th>\n",
       "      <th>DDFNAME</th>\n",
       "      <th>RECORDNO</th>\n",
       "    </tr>\n",
       "  </thead>\n",
       "  <tbody>\n",
       "    <tr>\n",
       "      <th>0</th>\n",
       "      <td>3021294647</td>\n",
       "      <td>TEST</td>\n",
       "      <td>0</td>\n",
       "      <td>0</td>\n",
       "      <td>0</td>\n",
       "      <td>0</td>\n",
       "      <td>MU</td>\n",
       "      <td>0</td>\n",
       "      <td>0</td>\n",
       "      <td>TH</td>\n",
       "      <td>...</td>\n",
       "      <td>0</td>\n",
       "      <td>0</td>\n",
       "      <td>2016</td>\n",
       "      <td>12</td>\n",
       "      <td>_</td>\n",
       "      <td>NaN</td>\n",
       "      <td>top</td>\n",
       "      <td>TEST</td>\n",
       "      <td>test_char.dd</td>\n",
       "      <td>2</td>\n",
       "    </tr>\n",
       "    <tr>\n",
       "      <th>1</th>\n",
       "      <td>3021294659</td>\n",
       "      <td>TEST</td>\n",
       "      <td>0</td>\n",
       "      <td>0</td>\n",
       "      <td>0</td>\n",
       "      <td>0</td>\n",
       "      <td>MU</td>\n",
       "      <td>0</td>\n",
       "      <td>0</td>\n",
       "      <td>TH</td>\n",
       "      <td>...</td>\n",
       "      <td>0</td>\n",
       "      <td>0</td>\n",
       "      <td>2016</td>\n",
       "      <td>12</td>\n",
       "      <td>_</td>\n",
       "      <td>NaN</td>\n",
       "      <td>top</td>\n",
       "      <td>TEST</td>\n",
       "      <td>test_char.dd</td>\n",
       "      <td>3</td>\n",
       "    </tr>\n",
       "  </tbody>\n",
       "</table>\n",
       "<p>2 rows × 37 columns</p>\n",
       "</div>"
      ],
      "text/plain": [
       "      POL_NUM PROD_CODE  PROD_ADJ  PROM_TP  BRANCH  SUBBRCH PLAN_CODE  BANK  \\\n",
       "0  3021294647      TEST         0        0       0        0        MU     0   \n",
       "1  3021294659      TEST         0        0       0        0        MU     0   \n",
       "\n",
       "   PID_0 COUNTRY    ...     HRG TOPUP_FLAG  ISSUE_YEAR ISSUE_MTH  TP_MOD_IDX  \\\n",
       "0      0      TH    ...       0          0        2016        12           _   \n",
       "1      0      TH    ...       0          0        2016        12           _   \n",
       "\n",
       "  REINS_MORT PRODUCT GROUP       DDFNAME  RECORDNO  \n",
       "0        NaN     top  TEST  test_char.dd         2  \n",
       "1        NaN     top  TEST  test_char.dd         3  \n",
       "\n",
       "[2 rows x 37 columns]"
      ]
     },
     "execution_count": 123,
     "metadata": {},
     "output_type": "execute_result"
    }
   ],
   "source": [
    "file = pd.read_csv('C:/Users/Toni Stan/Desktop/Phyton/Projects/test.csv')\n",
    "\n",
    "file.head(2)\n",
    "\n",
    "file.replace('U_MYUL', 'TEST')       "
   ]
  },
  {
   "cell_type": "code",
   "execution_count": 124,
   "metadata": {},
   "outputs": [
    {
     "name": "stdout",
     "output_type": "stream",
     "text": [
      "      POL_NUM PROD_CODE  PROD_ADJ  PROM_TP  BRANCH  SUBBRCH PLAN_CODE  BANK  \\\n",
      "0  3021294647    U_MYUL         0        0       0        0        MU     0   \n",
      "1  3021294659    U_MYUL         0        0       0        0        MU     0   \n",
      "\n",
      "   PID_0 COUNTRY    ...     HRG TOPUP_FLAG  ISSUE_YEAR ISSUE_MTH  TP_MOD_IDX  \\\n",
      "0      0      TH    ...       0          0        2016        12           _   \n",
      "1      0      TH    ...       0          0        2016        12           _   \n",
      "\n",
      "  REINS_MORT PRODUCT   GROUP       DDFNAME  RECORDNO  \n",
      "0        NaN     top  U_MYUL  test_char.dd         2  \n",
      "1        NaN     top  U_MYUL  test_char.dd         3  \n",
      "\n",
      "[2 rows x 37 columns]\n"
     ]
    }
   ],
   "source": [
    "print(file)"
   ]
  },
  {
   "cell_type": "code",
   "execution_count": null,
   "metadata": {},
   "outputs": [],
   "source": []
  }
 ],
 "metadata": {
  "kernelspec": {
   "display_name": "Python 3",
   "language": "python",
   "name": "python3"
  }
 },
 "nbformat": 4,
 "nbformat_minor": 2
}
