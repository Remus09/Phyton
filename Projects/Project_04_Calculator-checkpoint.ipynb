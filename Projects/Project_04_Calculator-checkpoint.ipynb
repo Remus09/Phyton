{
 "cells": [
  {
   "cell_type": "code",
   "execution_count": 5,
   "metadata": {},
   "outputs": [],
   "source": [
    "#Application to create a calculator in whic user can perform some basic operation (+, -, /, *)\n",
    "\n",
    "def calculate(a,b,operation):\n",
    "    print('You want to perform a {} of {} and {}'.format(operation,a,b))\n",
    "    \n",
    "    if operation not in '+-/*':\n",
    "        print('Please only use +, -, / or *')\n",
    "    \n",
    "    if operation == '+':\n",
    "        print('The results is {}'.format(a+b))\n",
    "    \n",
    "    if operation == '-':\n",
    "        print('The results is {}'.format(a-b))\n",
    "    \n",
    "    if operation == '*':\n",
    "        print('The results is {}'.format(a*b))\n",
    "    \n",
    "    if operation == '/':\n",
    "        print('The results is {}'.format(a/b))\n",
    "\n",
    "def main():\n",
    "    a = int(input('Please enter first number : '))\n",
    "    b = int(input('Please enter second number : '))\n",
    "    op = input('Please enter operation :')\n",
    "    calculate(a,b,op)\n",
    "\n",
    "if __name__ == \"main\":\n",
    "    main()"
   ]
  },
  {
   "cell_type": "code",
   "execution_count": 6,
   "metadata": {},
   "outputs": [
    {
     "name": "stdout",
     "output_type": "stream",
     "text": [
      "Please enter first number : 12\n",
      "Please enter second number : 13\n",
      "Please enter operation :+\n",
      "You want to perform a + of 12 and 13\n",
      "The results is 25\n"
     ]
    }
   ],
   "source": [
    "main()"
   ]
  },
  {
   "cell_type": "markdown",
   "metadata": {},
   "source": []
  }
 ],
 "metadata": {
  "kernelspec": {
   "display_name": "Python 3",
   "language": "python",
   "name": "python3"
  },
  "language_info": {
   "codemirror_mode": {
    "name": "ipython",
    "version": 3
   },
   "file_extension": ".py",
   "mimetype": "text/x-python",
   "name": "python",
   "nbconvert_exporter": "python",
   "pygments_lexer": "ipython3",
   "version": "3.6.4"
  }
 },
 "nbformat": 4,
 "nbformat_minor": 2
}
