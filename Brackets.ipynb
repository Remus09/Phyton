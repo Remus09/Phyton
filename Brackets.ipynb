{
 "cells": [
  {
   "cell_type": "markdown",
   "metadata": {},
   "source": [
    "A string S consisting of N characters is called properly nested if:\n",
    "\n",
    "S is empty;\n",
    "S has the form \"(U)\" where U is a properly nested string;\n",
    "S has the form \"VW\" where V and W are properly nested strings.\n",
    "For example, string \"(()(())())\" is properly nested but string \"())\" isn't.\n",
    "\n",
    "Write a function:\n",
    "\n",
    "def solution(S)\n",
    "\n",
    "that, given a string S consisting of N characters, returns 1 if string S is properly nested and 0 otherwise.\n",
    "\n",
    "For example, given S = \"(()(())())\", the function should return 1 and given S = \"())\", the function should return 0, as explained above.\n",
    "\n",
    "Write an efficient algorithm for the following assumptions:\n",
    "\n",
    "N is an integer within the range [0..1,000,000];\n",
    "string S consists only of the characters \"(\" and/or \")\"."
   ]
  },
  {
   "cell_type": "code",
   "execution_count": 2,
   "metadata": {},
   "outputs": [],
   "source": [
    "def solution(S):\n",
    "    if len(S) % 2 != 0:\n",
    "        return 0\n",
    "    \n",
    "    leftBrackets = 0\n",
    "     \n",
    "    for symbol in S:\n",
    "        if symbol == '(':\n",
    "            leftBrackets += 1\n",
    "        else:\n",
    "            if leftBrackets == 0:\n",
    "                return 0\n",
    "            leftBrackets -= 1 \n",
    "     \n",
    "    if leftBrackets != 0:\n",
    "        return 0\n",
    "     \n",
    "    return 1\n",
    "  "
   ]
  },
  {
   "cell_type": "code",
   "execution_count": 3,
   "metadata": {},
   "outputs": [],
   "source": [
    "#A = \"(()(())())\"\n",
    "A = \"(()(())())\""
   ]
  },
  {
   "cell_type": "code",
   "execution_count": 4,
   "metadata": {},
   "outputs": [
    {
     "data": {
      "text/plain": [
       "1"
      ]
     },
     "execution_count": 4,
     "metadata": {},
     "output_type": "execute_result"
    }
   ],
   "source": [
    "solution(A)"
   ]
  },
  {
   "cell_type": "code",
   "execution_count": null,
   "metadata": {},
   "outputs": [],
   "source": []
  },
  {
   "cell_type": "code",
   "execution_count": 12,
   "metadata": {},
   "outputs": [
    {
     "name": "stdout",
     "output_type": "stream",
     "text": [
      "Strings is (()(())())\n",
      "Strings after slicing is ()(())()\n",
      "Strings is ()(())()\n",
      "Strings after slicing is )(())(\n",
      "Strings is )(())(\n"
     ]
    },
    {
     "data": {
      "text/plain": [
       "0"
      ]
     },
     "execution_count": 12,
     "metadata": {},
     "output_type": "execute_result"
    }
   ],
   "source": [
    "solution(A)"
   ]
  },
  {
   "cell_type": "code",
   "execution_count": 19,
   "metadata": {},
   "outputs": [],
   "source": [
    "S = \"abcd\""
   ]
  },
  {
   "cell_type": "code",
   "execution_count": 20,
   "metadata": {},
   "outputs": [
    {
     "data": {
      "text/plain": [
       "'bc'"
      ]
     },
     "execution_count": 20,
     "metadata": {},
     "output_type": "execute_result"
    }
   ],
   "source": [
    "S[1:][:-1]"
   ]
  },
  {
   "cell_type": "code",
   "execution_count": null,
   "metadata": {},
   "outputs": [],
   "source": []
  }
 ],
 "metadata": {
  "kernelspec": {
   "display_name": "Python 3",
   "language": "python",
   "name": "python3"
  }
 },
 "nbformat": 4,
 "nbformat_minor": 2
}
