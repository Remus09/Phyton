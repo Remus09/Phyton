{
 "cells": [
  {
   "cell_type": "markdown",
   "metadata": {},
   "source": [
    "An array A consisting of N integers is given. The dominator of array A is the value that occurs in more than half of the elements of A.\n",
    "\n",
    "For example, consider array A such that\n",
    "\n",
    " A[0] = 3    A[1] = 4    A[2] =  3\n",
    " A[3] = 2    A[4] = 3    A[5] = -1\n",
    " A[6] = 3    A[7] = 3\n",
    "The dominator of A is 3 because it occurs in 5 out of 8 elements of A (namely in those with indices 0, 2, 4, 6 and 7) and 5 is more than a half of 8.\n",
    "\n",
    "Write a function\n",
    "\n",
    "def solution(a)\n",
    "\n",
    "that, given an array A consisting of N integers, returns index of any element of array A in which the dominator of A occurs. The function should return −1 if array A does not have a dominator.\n",
    "\n",
    "For example, given array A such that\n",
    "\n",
    " A[0] = 3    A[1] = 4    A[2] =  3\n",
    " A[3] = 2    A[4] = 3    A[5] = -1\n",
    " A[6] = 3    A[7] = 3\n",
    "the function may return 0, 2, 4, 6 or 7, as explained above.\n",
    "\n",
    "Write an efficient algorithm for the following assumptions:\n",
    "\n",
    "N is an integer within the range [0..100,000];\n",
    "each element of array A is an integer within the range [−2,147,483,648..2,147,483,647]."
   ]
  },
  {
   "cell_type": "code",
   "execution_count": 49,
   "metadata": {},
   "outputs": [],
   "source": [
    "def solution(A):\n",
    "    \n",
    "    domin_candidate = ''\n",
    "    domin_count = 0\n",
    "    \n",
    "    for element in A:\n",
    "        if domin_candidate == '':\n",
    "            domin_candidate = element\n",
    "            domin_count +=1\n",
    "        else:\n",
    "            if element != domin_candidate:\n",
    "                domin_count -=1\n",
    "                if domin_count == 0:\n",
    "                    domin_candidate = ''\n",
    "            else:\n",
    "                domin_count+=1\n",
    "                \n",
    "    print('Most frequent values is {}'.format(domin_candidate))\n",
    "    \n",
    "    occur = A.count(domin_candidate)\n",
    "    \n",
    "    if occur<=len(A)/2:\n",
    "        return -1\n",
    "    \n",
    "    for idx,value in enumerate(A):\n",
    "        if value == domin_candidate:\n",
    "            return idx\n",
    "        "
   ]
  },
  {
   "cell_type": "code",
   "execution_count": 50,
   "metadata": {},
   "outputs": [
    {
     "name": "stdout",
     "output_type": "stream",
     "text": [
      "Most frequent values is 3\n"
     ]
    },
    {
     "data": {
      "text/plain": [
       "0"
      ]
     },
     "execution_count": 50,
     "metadata": {},
     "output_type": "execute_result"
    }
   ],
   "source": [
    "A = [3,4,3,2,3,-1,3,3]\n",
    "solution(A)"
   ]
  },
  {
   "cell_type": "code",
   "execution_count": 47,
   "metadata": {},
   "outputs": [],
   "source": [
    "def solution_new(A):\n",
    "    \n",
    "    domin_element = ''\n",
    "    domin_count   = 0\n",
    "    \n",
    "    for element in A:\n",
    "        if domin_element == '':\n",
    "            domin_element = element\n",
    "            domin_count = 1\n",
    "        else:\n",
    "            if element != domin_element:\n",
    "                domin_count -=1\n",
    "                if domin_count == 0:\n",
    "                    domin_element = ''\n",
    "            else:\n",
    "                domin_count +=1\n",
    "    \n",
    "    if domin_count == 0:\n",
    "        return -1\n",
    "    \n",
    "    count = 0\n",
    "    last_idx = -1\n",
    "    \n",
    "    for idx,value in enumerate(A):\n",
    "        if value == domin_element:\n",
    "            count +=1\n",
    "            last_idx = idx\n",
    "   \n",
    "    occurence = A.count(domin_element)\n",
    "    print(\"Domin element is {} and occures {}\".format(domin_element, occurence)) \n",
    "\n",
    "\n",
    "    if count > len(A)/2:\n",
    "        return last_idx\n",
    "    \n",
    " \n",
    "    "
   ]
  },
  {
   "cell_type": "code",
   "execution_count": 48,
   "metadata": {},
   "outputs": [
    {
     "name": "stdout",
     "output_type": "stream",
     "text": [
      "Domin element is 3 and occures 5\n"
     ]
    },
    {
     "data": {
      "text/plain": [
       "7"
      ]
     },
     "execution_count": 48,
     "metadata": {},
     "output_type": "execute_result"
    }
   ],
   "source": [
    "solution_new(A)"
   ]
  },
  {
   "cell_type": "code",
   "execution_count": 45,
   "metadata": {},
   "outputs": [
    {
     "name": "stdout",
     "output_type": "stream",
     "text": [
      "Candidate 3\n",
      "Candidate 2\n"
     ]
    },
    {
     "data": {
      "text/plain": [
       "7"
      ]
     },
     "execution_count": 45,
     "metadata": {},
     "output_type": "execute_result"
    }
   ],
   "source": [
    "solution(A)"
   ]
  },
  {
   "cell_type": "code",
   "execution_count": 22,
   "metadata": {},
   "outputs": [],
   "source": [
    "my_dict = Counter(A)"
   ]
  },
  {
   "cell_type": "code",
   "execution_count": 23,
   "metadata": {},
   "outputs": [
    {
     "data": {
      "text/plain": [
       "{0: 2, 1: 2, 2: 1, 3: 5}"
      ]
     },
     "execution_count": 23,
     "metadata": {},
     "output_type": "execute_result"
    }
   ],
   "source": [
    "max = 0\n",
    "\n",
    "#dict((x,l.count(x)) for x in set(l))\n",
    "\n",
    "\n",
    "my_dict = dict((x,A.count(x)) for x in set(A))\n",
    "my_dict"
   ]
  },
  {
   "cell_type": "code",
   "execution_count": 24,
   "metadata": {},
   "outputs": [
    {
     "data": {
      "text/plain": [
       "[0, 1, 2, 3]"
      ]
     },
     "execution_count": 24,
     "metadata": {},
     "output_type": "execute_result"
    }
   ],
   "source": [
    "sorted(my_dict)"
   ]
  },
  {
   "cell_type": "code",
   "execution_count": 14,
   "metadata": {},
   "outputs": [
    {
     "name": "stdout",
     "output_type": "stream",
     "text": [
      "3\n"
     ]
    }
   ],
   "source": [
    "max_occ = 0\n",
    "for v in my_dict.values():\n",
    "    if v>max_occ:\n",
    "        max_occ = v\n",
    "print(max_occ)\n"
   ]
  },
  {
   "cell_type": "code",
   "execution_count": 20,
   "metadata": {},
   "outputs": [
    {
     "data": {
      "text/plain": [
       "3"
      ]
     },
     "execution_count": 20,
     "metadata": {},
     "output_type": "execute_result"
    }
   ],
   "source": [
    "value = my_dict.get(0)\n",
    "value"
   ]
  },
  {
   "cell_type": "code",
   "execution_count": null,
   "metadata": {},
   "outputs": [],
   "source": []
  }
 ],
 "metadata": {
  "kernelspec": {
   "display_name": "Python 3",
   "language": "python",
   "name": "python3"
  },
  "language_info": {
   "codemirror_mode": {
    "name": "ipython",
    "version": 3
   },
   "file_extension": ".py",
   "mimetype": "text/x-python",
   "name": "python",
   "nbconvert_exporter": "python",
   "pygments_lexer": "ipython3",
   "version": "3.6.5"
  }
 },
 "nbformat": 4,
 "nbformat_minor": 2
}
