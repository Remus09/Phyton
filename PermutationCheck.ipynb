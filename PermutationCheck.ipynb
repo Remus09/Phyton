{
 "cells": [
  {
   "cell_type": "markdown",
   "metadata": {},
   "source": [
    "A non-empty array A consisting of N integers is given.\n",
    "\n",
    "A permutation is a sequence containing each element from 1 to N once, and only once.\n",
    "\n",
    "For example, array A such that:\n",
    "\n",
    "    A[0] = 4\n",
    "    A[1] = 1\n",
    "    A[2] = 3\n",
    "    A[3] = 2\n",
    "is a permutation, but array A such that:\n",
    "\n",
    "    A[0] = 4\n",
    "    A[1] = 1\n",
    "    A[2] = 3\n",
    "is not a permutation, because value 2 is missing.\n",
    "\n",
    "The goal is to check whether array A is a permutation.\n",
    "\n",
    "Write a function:\n",
    "\n",
    "int solution(int A[], int N);\n",
    "\n",
    "that, given an array A, returns 1 if array A is a permutation and 0 if it is not.\n",
    "\n",
    "For example, given array A such that:\n",
    "\n",
    "    A[0] = 4\n",
    "    A[1] = 1\n",
    "    A[2] = 3\n",
    "    A[3] = 2\n",
    "the function should return 1.\n",
    "\n",
    "Given array A such that:\n",
    "\n",
    "    A[0] = 4\n",
    "    A[1] = 1\n",
    "    A[2] = 3\n",
    "the function should return 0.\n",
    "\n",
    "Write an efficient algorithm for the following assumptions:\n",
    "\n",
    "N is an integer within the range [1..100,000];\n",
    "each element of array A is an integer within the range [1..1,000,000,000]."
   ]
  },
  {
   "cell_type": "code",
   "execution_count": 130,
   "metadata": {},
   "outputs": [],
   "source": [
    "def solution(A):\n",
    "    #Check if A has elements from 1 to N\n",
    "    A.sort()\n",
    "    \n",
    "    if A[0] != 1:\n",
    "        return 0\n",
    "    \n",
    "    #if len(A) == 1:\n",
    "     #   if A[0] == 1:\n",
    "      #      return 1\n",
    "       # else:\n",
    "        #    return 0\n",
    "    print('Passed')\n",
    "    B = A\n",
    "    print('Sorted B is {}'.format(B))\n",
    "    C = list(range(B[0],B[-1]+1))\n",
    "    print('List C is {}'.format(C))\n",
    "    bool = B==C\n",
    "    print('Boolean = {}'.format(bool))\n",
    "    if bool:\n",
    "        return 1\n",
    "    else:\n",
    "        return 0"
   ]
  },
  {
   "cell_type": "code",
   "execution_count": 133,
   "metadata": {},
   "outputs": [],
   "source": [
    "A = [1]"
   ]
  },
  {
   "cell_type": "code",
   "execution_count": 134,
   "metadata": {},
   "outputs": [
    {
     "name": "stdout",
     "output_type": "stream",
     "text": [
      "Passed\n",
      "Sorted B is [1]\n",
      "List C is [1]\n",
      "Boolean = True\n"
     ]
    },
    {
     "data": {
      "text/plain": [
       "1"
      ]
     },
     "execution_count": 134,
     "metadata": {},
     "output_type": "execute_result"
    }
   ],
   "source": [
    "solution(A)"
   ]
  },
  {
   "cell_type": "code",
   "execution_count": 124,
   "metadata": {},
   "outputs": [
    {
     "name": "stdout",
     "output_type": "stream",
     "text": [
      "Passed\n",
      "Sorted B is [1, 2, 3, 4]\n",
      "List C is [1, 2, 3, 4]\n",
      "Boolean = True\n",
      "1\n"
     ]
    }
   ],
   "source": [
    "if len(A) == 1 and A[0] == 1:\n",
    "    result = 1\n",
    "else:\n",
    "    result =  0\n",
    "print('Passed')\n",
    "A.sort()\n",
    "B = A\n",
    "print('Sorted B is {}'.format(B))\n",
    "C = list(range(B[0],B[-1]+1))\n",
    "print('List C is {}'.format(C))\n",
    "bool = B==C\n",
    "print('Boolean = {}'.format(bool))\n",
    "\n",
    "if bool:\n",
    "    result = 1\n",
    "else:\n",
    "    result = 0\n",
    "print(result)"
   ]
  },
  {
   "cell_type": "code",
   "execution_count": 122,
   "metadata": {},
   "outputs": [],
   "source": [
    "A = [4,1,3,2]\n",
    "B = A.sort()"
   ]
  },
  {
   "cell_type": "code",
   "execution_count": 123,
   "metadata": {},
   "outputs": [
    {
     "data": {
      "text/plain": [
       "[1, 2, 3, 4]"
      ]
     },
     "execution_count": 123,
     "metadata": {},
     "output_type": "execute_result"
    }
   ],
   "source": [
    "B = A\n",
    "B"
   ]
  },
  {
   "cell_type": "code",
   "execution_count": 68,
   "metadata": {},
   "outputs": [
    {
     "data": {
      "text/plain": [
       "[1, 2, 3, 4]"
      ]
     },
     "execution_count": 68,
     "metadata": {},
     "output_type": "execute_result"
    }
   ],
   "source": [
    "B = sorted(A)\n",
    "C = list(range(B[0], B[-1]+1))\n",
    "C"
   ]
  },
  {
   "cell_type": "code",
   "execution_count": 70,
   "metadata": {},
   "outputs": [
    {
     "data": {
      "text/plain": [
       "[1, 2, 3, 4]"
      ]
     },
     "execution_count": 70,
     "metadata": {},
     "output_type": "execute_result"
    }
   ],
   "source": [
    "B = sorted(A)\n",
    "B"
   ]
  },
  {
   "cell_type": "code",
   "execution_count": 71,
   "metadata": {},
   "outputs": [
    {
     "data": {
      "text/plain": [
       "[1, 2, 3, 4]"
      ]
     },
     "execution_count": 71,
     "metadata": {},
     "output_type": "execute_result"
    }
   ],
   "source": [
    "C = list(range(B[0], B[-1]+1))\n",
    "C"
   ]
  },
  {
   "cell_type": "code",
   "execution_count": 72,
   "metadata": {},
   "outputs": [
    {
     "data": {
      "text/plain": [
       "True"
      ]
     },
     "execution_count": 72,
     "metadata": {},
     "output_type": "execute_result"
    }
   ],
   "source": [
    "B == C"
   ]
  },
  {
   "cell_type": "code",
   "execution_count": null,
   "metadata": {},
   "outputs": [],
   "source": []
  },
  {
   "cell_type": "code",
   "execution_count": null,
   "metadata": {},
   "outputs": [],
   "source": []
  },
  {
   "cell_type": "code",
   "execution_count": null,
   "metadata": {},
   "outputs": [],
   "source": []
  },
  {
   "cell_type": "code",
   "execution_count": 69,
   "metadata": {},
   "outputs": [
    {
     "data": {
      "text/plain": [
       "True"
      ]
     },
     "execution_count": 69,
     "metadata": {},
     "output_type": "execute_result"
    }
   ],
   "source": [
    "C == B"
   ]
  },
  {
   "cell_type": "code",
   "execution_count": 41,
   "metadata": {},
   "outputs": [
    {
     "data": {
      "text/plain": [
       "[1, 2, 3, 4]"
      ]
     },
     "execution_count": 41,
     "metadata": {},
     "output_type": "execute_result"
    }
   ],
   "source": [
    "B"
   ]
  },
  {
   "cell_type": "code",
   "execution_count": 49,
   "metadata": {},
   "outputs": [
    {
     "data": {
      "text/plain": [
       "[1, 2, 3, 4]"
      ]
     },
     "execution_count": 49,
     "metadata": {},
     "output_type": "execute_result"
    }
   ],
   "source": [
    "C = list(range(B[0],B[-1]+1))"
   ]
  },
  {
   "cell_type": "code",
   "execution_count": 50,
   "metadata": {},
   "outputs": [
    {
     "data": {
      "text/plain": [
       "[1, 2, 3, 4]"
      ]
     },
     "execution_count": 50,
     "metadata": {},
     "output_type": "execute_result"
    }
   ],
   "source": []
  }
 ],
 "metadata": {
  "kernelspec": {
   "display_name": "Python 3",
   "language": "python",
   "name": "python3"
  },
  "language_info": {
   "codemirror_mode": {
    "name": "ipython",
    "version": 3
   },
   "file_extension": ".py",
   "mimetype": "text/x-python",
   "name": "python",
   "nbconvert_exporter": "python",
   "pygments_lexer": "ipython3",
   "version": "3.6.5"
  }
 },
 "nbformat": 4,
 "nbformat_minor": 2
}
