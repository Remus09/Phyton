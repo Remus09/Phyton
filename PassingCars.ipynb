{
 "cells": [
  {
   "cell_type": "markdown",
   "metadata": {},
   "source": [
    "A non-empty array A consisting of N integers is given. The consecutive elements of array A represent consecutive cars on a road.\n",
    "\n",
    "Array A contains only 0s and/or 1s:\n",
    "\n",
    "0 represents a car traveling east,\n",
    "1 represents a car traveling west.\n",
    "The goal is to count passing cars. We say that a pair of cars (P, Q), where 0 ≤ P < Q < N, is passing when P is traveling to the east and Q is traveling to the west.\n",
    "\n",
    "For example, consider array A such that:\n",
    "\n",
    "  A[0] = 0\n",
    "  A[1] = 1\n",
    "  A[2] = 0\n",
    "  A[3] = 1\n",
    "  A[4] = 1\n",
    "We have five pairs of passing cars: (0, 1), (0, 3), (0, 4), (2, 3), (2, 4).\n",
    "\n",
    "Write a function:\n",
    "\n",
    "def solution(a)\n",
    "\n",
    "that, given a non-empty array A of N integers, returns the number of pairs of passing cars.\n",
    "\n",
    "The function should return −1 if the number of pairs of passing cars exceeds 1,000,000,000.\n",
    "\n",
    "For example, given:\n",
    "\n",
    "  A[0] = 0\n",
    "  A[1] = 1\n",
    "  A[2] = 0\n",
    "  A[3] = 1\n",
    "  A[4] = 1\n",
    "the function should return 5, as explained above.\n",
    "\n",
    "Write an efficient algorithm for the following assumptions:\n",
    "\n",
    "N is an integer within the range [1..100,000];\n",
    "each element of array A is an integer that can have one of the following values: 0, 1."
   ]
  },
  {
   "cell_type": "code",
   "execution_count": 1,
   "metadata": {},
   "outputs": [],
   "source": [
    "A = [0,1,0,1,1]"
   ]
  },
  {
   "cell_type": "code",
   "execution_count": 11,
   "metadata": {},
   "outputs": [
    {
     "name": "stdout",
     "output_type": "stream",
     "text": [
      "Pairs are 0,0\n",
      "Pairs are 0,1\n",
      "Pair 01\n",
      "Pairs are 0,0\n",
      "Pairs are 0,1\n",
      "Pair 03\n",
      "Pairs are 0,1\n",
      "Pair 04\n",
      "Pairs are 1,1\n",
      "Pairs are 1,0\n",
      "Pairs are 1,1\n",
      "Pairs are 1,1\n",
      "Pairs are 0,0\n",
      "Pairs are 0,1\n",
      "Pair 23\n",
      "Pairs are 0,1\n",
      "Pair 24\n",
      "Pairs are 1,1\n",
      "Pairs are 1,1\n",
      "Pairs are 1,1\n"
     ]
    }
   ],
   "source": [
    "count = 0\n",
    "for i in range(len(A)):\n",
    "    for j in range(i,len(A)):\n",
    "        print('Pairs are {},{}'.format(A[i], A[j]))\n",
    "        if (A[i], A[j]) == (0,1):\n",
    "            print('Pair {}{}'.format(i,j))\n",
    "            count+=1\n",
    "return count"
   ]
  },
  {
   "cell_type": "code",
   "execution_count": 15,
   "metadata": {},
   "outputs": [],
   "source": [
    "def solution(A):\n",
    "    west_cars = 0\n",
    "    cnt_passings = 0\n",
    " \n",
    "    for idx in range(len(A)-1, -1, -1):\n",
    "        if A[idx] == 0:\n",
    "            cnt_passings += west_cars\n",
    "            if cnt_passings > 1000000000:\n",
    "                return -1\n",
    "        else:\n",
    "            west_cars += 1\n",
    " \n",
    "    return cnt_passings"
   ]
  },
  {
   "cell_type": "code",
   "execution_count": 16,
   "metadata": {},
   "outputs": [
    {
     "data": {
      "text/plain": [
       "5"
      ]
     },
     "execution_count": 16,
     "metadata": {},
     "output_type": "execute_result"
    }
   ],
   "source": [
    "solution(A)"
   ]
  },
  {
   "cell_type": "code",
   "execution_count": null,
   "metadata": {},
   "outputs": [],
   "source": []
  }
 ],
 "metadata": {
  "kernelspec": {
   "display_name": "Python 3",
   "language": "python",
   "name": "python3"
  },
  "language_info": {
   "codemirror_mode": {
    "name": "ipython",
    "version": 3
   },
   "file_extension": ".py",
   "mimetype": "text/x-python",
   "name": "python",
   "nbconvert_exporter": "python",
   "pygments_lexer": "ipython3",
   "version": "3.6.5"
  }
 },
 "nbformat": 4,
 "nbformat_minor": 2
}
