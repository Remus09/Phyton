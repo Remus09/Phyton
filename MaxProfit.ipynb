{
 "cells": [
  {
   "cell_type": "markdown",
   "metadata": {},
   "source": [
    "An array A consisting of N integers is given. It contains daily prices of a stock share for a period of N consecutive days. If a single share was bought on day P and sold on day Q, where 0 ≤ P ≤ Q < N, then the profit of such transaction is equal to A[Q] − A[P], provided that A[Q] ≥ A[P]. Otherwise, the transaction brings loss of A[P] − A[Q].\n",
    "\n",
    "For example, consider the following array A consisting of six elements such that:\n",
    "\n",
    "  A[0] = 23171\n",
    "  A[1] = 21011\n",
    "  A[2] = 21123\n",
    "  A[3] = 21366\n",
    "  A[4] = 21013\n",
    "  A[5] = 21367\n",
    "If a share was bought on day 0 and sold on day 2, a loss of 2048 would occur because A[2] − A[0] = 21123 − 23171 = −2048. If a share was bought on day 4 and sold on day 5, a profit of 354 would occur because A[5] − A[4] = 21367 − 21013 = 354. Maximum possible profit was 356. It would occur if a share was bought on day 1 and sold on day 5.\n",
    "\n",
    "Write a function,\n",
    "\n",
    "Private Function solution(A As Integer()) As Integer\n",
    "\n",
    "that, given an array A consisting of N integers containing daily prices of a stock share for a period of N consecutive days, returns the maximum possible profit from one transaction during this period. The function should return 0 if it was impossible to gain any profit.\n",
    "\n",
    "For example, given array A consisting of six elements such that:\n",
    "\n",
    "  A[0] = 23171\n",
    "  A[1] = 21011\n",
    "  A[2] = 21123\n",
    "  A[3] = 21366\n",
    "  A[4] = 21013\n",
    "  A[5] = 21367\n",
    "the function should return 356, as explained above.\n",
    "\n",
    "Write an efficient algorithm for the following assumptions:\n",
    "\n",
    "N is an integer within the range [0..400,000];\n",
    "each element of array A is an integer within the range [0..200,000]."
   ]
  },
  {
   "cell_type": "code",
   "execution_count": 6,
   "metadata": {},
   "outputs": [],
   "source": [
    "def solution_old(A):\n",
    "    \n",
    "    max_profit = 0\n",
    "    \n",
    "    for idx_buy, value in enumerate(A):\n",
    "        for idx_sale, value in enumerate(A):\n",
    "            if idx_sale > idx_buy:\n",
    "                profit = A[idx_sale] - A[idx_buy]\n",
    "                if profit >=0 and profit>max_profit:\n",
    "                    max_profit = profit\n",
    "    return max_profit"
   ]
  },
  {
   "cell_type": "code",
   "execution_count": 7,
   "metadata": {},
   "outputs": [],
   "source": [
    "def solution(A):\n",
    "    if len(A) == 0 or len(A) == 1:\n",
    "        return 0\n",
    "    \n",
    "    minimum = 200000\n",
    "    max_profit = 0\n",
    "    \n",
    "    for value in A:\n",
    "        minimum = min(value, minimum)\n",
    "        max_profit = max(max_profit, value-minimum)\n",
    "    return max_profit"
   ]
  },
  {
   "cell_type": "code",
   "execution_count": 8,
   "metadata": {},
   "outputs": [],
   "source": [
    "A = [23171, 21011, 21123, 21366, 21013, 21367]"
   ]
  },
  {
   "cell_type": "code",
   "execution_count": 9,
   "metadata": {},
   "outputs": [
    {
     "data": {
      "text/plain": [
       "356"
      ]
     },
     "execution_count": 9,
     "metadata": {},
     "output_type": "execute_result"
    }
   ],
   "source": [
    "solution(A)"
   ]
  },
  {
   "cell_type": "code",
   "execution_count": 2,
   "metadata": {},
   "outputs": [
    {
     "name": "stdout",
     "output_type": "stream",
     "text": [
      "0 1\n",
      "1 2\n",
      "2 3\n",
      "3 4\n",
      "4 5\n"
     ]
    }
   ],
   "source": [
    "for idx,value in enumerate(A):\n",
    "    print(idx, value)"
   ]
  },
  {
   "cell_type": "code",
   "execution_count": null,
   "metadata": {},
   "outputs": [],
   "source": []
  }
 ],
 "metadata": {
  "kernelspec": {
   "display_name": "Python 3",
   "language": "python",
   "name": "python3"
  },
  "language_info": {
   "codemirror_mode": {
    "name": "ipython",
    "version": 3
   },
   "file_extension": ".py",
   "mimetype": "text/x-python",
   "name": "python",
   "nbconvert_exporter": "python",
   "pygments_lexer": "ipython3",
   "version": "3.6.5"
  }
 },
 "nbformat": 4,
 "nbformat_minor": 2
}
