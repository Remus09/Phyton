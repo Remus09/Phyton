{
 "cells": [
  {
   "cell_type": "markdown",
   "metadata": {},
   "source": [
    "A non-empty array A consisting of N integers is given. Array A represents numbers on a tape.\n",
    "\n",
    "Any integer P, such that 0 < P < N, splits this tape into two non-empty parts: A[0], A[1], ..., A[P − 1] and A[P], A[P + 1], ..., A[N − 1].\n",
    "\n",
    "The difference between the two parts is the value of: |(A[0] + A[1] + ... + A[P − 1]) − (A[P] + A[P + 1] + ... + A[N − 1])|\n",
    "\n",
    "In other words, it is the absolute difference between the sum of the first part and the sum of the second part.\n",
    "\n",
    "For example, consider array A such that:\n",
    "\n",
    "  A[0] = 3\n",
    "  A[1] = 1\n",
    "  A[2] = 2\n",
    "  A[3] = 4\n",
    "  A[4] = 3\n",
    "We can split this tape in four places:\n",
    "\n",
    "P = 1, difference = |3 − 10| = 7 \n",
    "P = 2, difference = |4 − 9| = 5 \n",
    "P = 3, difference = |6 − 7| = 1 \n",
    "P = 4, difference = |10 − 3| = 7 \n",
    "Write a function:\n",
    "\n",
    "def solution(A)\n",
    "\n",
    "that, given a non-empty array A of N integers, returns the minimal difference that can be achieved.\n",
    "\n",
    "For example, given:\n",
    "\n",
    "  A[0] = 3\n",
    "  A[1] = 1\n",
    "  A[2] = 2\n",
    "  A[3] = 4\n",
    "  A[4] = 3\n",
    "the function should return 1, as explained above.\n",
    "\n",
    "Write an efficient algorithm for the following assumptions:\n",
    "\n",
    "N is an integer within the range [2..100,000];\n",
    "each element of array A is an integer within the range [−1,000..1,000]."
   ]
  },
  {
   "cell_type": "code",
   "execution_count": 21,
   "metadata": {},
   "outputs": [],
   "source": [
    "def solution(A):\n",
    "    head = A[0]\n",
    "    tail = sum(A[1:])\n",
    "    min_diff = abs(head - tail)\n",
    "    \n",
    "    print('Step 0 head = {} and tail = {} ---diff {}'.format(head, tail, min_diff))\n",
    "    for index in range(1, len(A)-1):\n",
    "        head += A[index]\n",
    "        tail -= A[index]\n",
    "        print('Step {} head = {} and tail = {} ---diff {}'.format(index, head, tail, min_diff))\n",
    "        if abs(head-tail)<min_diff:\n",
    "            min_diff = abs(head-tail)\n",
    "    return min_diff"
   ]
  },
  {
   "cell_type": "code",
   "execution_count": 22,
   "metadata": {},
   "outputs": [],
   "source": [
    "A = [-10, -5, -3, -4, -5]"
   ]
  },
  {
   "cell_type": "code",
   "execution_count": 23,
   "metadata": {},
   "outputs": [
    {
     "name": "stdout",
     "output_type": "stream",
     "text": [
      "Step 0 head = -10 and tail = -17 ---diff 7\n",
      "Step 1 head = -15 and tail = -12 ---diff 7\n",
      "Step 2 head = -18 and tail = -9 ---diff 3\n",
      "Step 3 head = -22 and tail = -5 ---diff 3\n"
     ]
    },
    {
     "data": {
      "text/plain": [
       "3"
      ]
     },
     "execution_count": 23,
     "metadata": {},
     "output_type": "execute_result"
    }
   ],
   "source": [
    "solution(A)"
   ]
  },
  {
   "cell_type": "code",
   "execution_count": null,
   "metadata": {},
   "outputs": [],
   "source": []
  }
 ],
 "metadata": {
  "kernelspec": {
   "display_name": "Python 3",
   "language": "python",
   "name": "python3"
  },
  "language_info": {
   "codemirror_mode": {
    "name": "ipython",
    "version": 3
   },
   "file_extension": ".py",
   "mimetype": "text/x-python",
   "name": "python",
   "nbconvert_exporter": "python",
   "pygments_lexer": "ipython3",
   "version": "3.6.5"
  }
 },
 "nbformat": 4,
 "nbformat_minor": 2
}
