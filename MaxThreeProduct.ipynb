{
 "cells": [
  {
   "cell_type": "markdown",
   "metadata": {},
   "source": [
    "A non-empty array A consisting of N integers is given. The product of triplet (P, Q, R) equates to A[P] * A[Q] * A[R] (0 ≤ P < Q < R < N).\n",
    "\n",
    "For example, array A such that:\n",
    "\n",
    "  A[0] = -3\n",
    "  A[1] = 1\n",
    "  A[2] = 2\n",
    "  A[3] = -2\n",
    "  A[4] = 5\n",
    "  A[5] = 6\n",
    "contains the following example triplets:\n",
    "\n",
    "(0, 1, 2), product is −3 * 1 * 2 = −6\n",
    "(1, 2, 4), product is 1 * 2 * 5 = 10\n",
    "(2, 4, 5), product is 2 * 5 * 6 = 60\n",
    "Your goal is to find the maximal product of any triplet.\n",
    "\n",
    "Write a function:\n",
    "\n",
    "def solution(A)\n",
    "\n",
    "that, given a non-empty array A, returns the value of the maximal product of any triplet.\n",
    "\n",
    "For example, given array A such that:\n",
    "\n",
    "  A[0] = -3\n",
    "  A[1] = 1\n",
    "  A[2] = 2\n",
    "  A[3] = -2\n",
    "  A[4] = 5\n",
    "  A[5] = 6\n",
    "the function should return 60, as the product of triplet (2, 4, 5) is maximal.\n",
    "\n",
    "Write an efficient algorithm for the following assumptions:\n",
    "\n",
    "N is an integer within the range [3..100,000];\n",
    "each element of array A is an integer within the range [−1,000..1,000]."
   ]
  },
  {
   "cell_type": "raw",
   "metadata": {},
   "source": [
    "Answer :\n",
    "    Step 1 : Sort the algorithm\n",
    "    Step 3 : The largest (a,b,c) with a,b,c from is obtained by either :\n",
    "            1. Product of the last 3 numbers\n",
    "            2. Product of first 2 (that could be negative) and the largest positive"
   ]
  },
  {
   "cell_type": "code",
   "execution_count": 1,
   "metadata": {},
   "outputs": [],
   "source": [
    "def solution(A):\n",
    "    A.sort()\n",
    "    \n",
    "    return max(A[0] * A[1] * A[-1], A[-1] * A[-2] * A[-3])"
   ]
  },
  {
   "cell_type": "code",
   "execution_count": 2,
   "metadata": {},
   "outputs": [],
   "source": [
    "A = [-3,1,2,-2,5,6]"
   ]
  },
  {
   "cell_type": "code",
   "execution_count": 3,
   "metadata": {},
   "outputs": [
    {
     "data": {
      "text/plain": [
       "60"
      ]
     },
     "execution_count": 3,
     "metadata": {},
     "output_type": "execute_result"
    }
   ],
   "source": [
    "solution(A)"
   ]
  },
  {
   "cell_type": "code",
   "execution_count": null,
   "metadata": {},
   "outputs": [],
   "source": []
  }
 ],
 "metadata": {
  "kernelspec": {
   "display_name": "Python 3",
   "language": "python",
   "name": "python3"
  },
  "language_info": {
   "codemirror_mode": {
    "name": "ipython",
    "version": 3
   },
   "file_extension": ".py",
   "mimetype": "text/x-python",
   "name": "python",
   "nbconvert_exporter": "python",
   "pygments_lexer": "ipython3",
   "version": "3.6.5"
  }
 },
 "nbformat": 4,
 "nbformat_minor": 2
}
