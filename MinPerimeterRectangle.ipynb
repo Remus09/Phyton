{
 "cells": [
  {
   "cell_type": "code",
   "execution_count": 13,
   "metadata": {},
   "outputs": [],
   "source": [
    "def solution(N):\n",
    "    \n",
    "    #Compute the possible pairs using divisors\n",
    "    \n",
    "    i = 1\n",
    "    min_perimeter = 2*(N+1)\n",
    "    \n",
    "    \n",
    "    while i*i <=N:\n",
    "        if N%i == 0:\n",
    "            min_perimeter = min(min_perimeter, 2* (i + N//i))\n",
    "        i+=1\n",
    "    return min_perimeter"
   ]
  },
  {
   "cell_type": "code",
   "execution_count": 16,
   "metadata": {},
   "outputs": [
    {
     "data": {
      "text/plain": [
       "30972904"
      ]
     },
     "execution_count": 16,
     "metadata": {},
     "output_type": "execute_result"
    }
   ],
   "source": [
    "solution(15486451)"
   ]
  },
  {
   "cell_type": "code",
   "execution_count": null,
   "metadata": {},
   "outputs": [],
   "source": []
  }
 ],
 "metadata": {
  "kernelspec": {
   "display_name": "Python 3",
   "language": "python",
   "name": "python3"
  },
  "language_info": {
   "codemirror_mode": {
    "name": "ipython",
    "version": 3
   },
   "file_extension": ".py",
   "mimetype": "text/x-python",
   "name": "python",
   "nbconvert_exporter": "python",
   "pygments_lexer": "ipython3",
   "version": "3.6.5"
  }
 },
 "nbformat": 4,
 "nbformat_minor": 2
}
