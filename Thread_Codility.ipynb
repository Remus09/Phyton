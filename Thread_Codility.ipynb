{
 "cells": [
  {
   "cell_type": "code",
   "execution_count": 91,
   "metadata": {},
   "outputs": [],
   "source": [
    "# you can write to stdout for debugging purposes, e.g.\n",
    "# print(\"this is a debug message\")\n",
    "\n",
    "def solution(A):\n",
    "    # write your code in Python 3.6\n",
    "    def checkSum(A):\n",
    "        \n",
    "        sum_total = sum(A)\n",
    "        print('Sum is {}'.format(sum_total))\n",
    "        sum_stack01 = sum_total//3\n",
    "        sum_stack02 = 2*sum_stack01\n",
    "        stack = 0\n",
    "        print('Stack sum {}'.format(sum_stack01))\n",
    "        check = True\n",
    "        \n",
    "        for idx in range(len(A)):\n",
    "            stack += A[idx]\n",
    "            \n",
    "            print('Stack is {}'.format(stack))\n",
    "            print('Check is {}'.format(check))\n",
    "            print('Condition 01 {}'.format(stack % sum_stack01 == 0))\n",
    "            if (stack % sum_stack01 == 0 and check == True):\n",
    "                check = False\n",
    "            elif(stack % sum_stack02 == 0):\n",
    "                return True\n",
    "        return False\n",
    "#Logic : remove all posible 2 elements and check if remaining elemnts from string can be splitted in\n",
    "    # 3 different stacks of same runtime\n",
    "    \n",
    "    \n",
    "    for idx_01 in range(len(A)):\n",
    "            for idx_02 in range(idx_01 +1, len(A)):\n",
    "                B = A[:]\n",
    "                index_list = [idx_01, idx_02]\n",
    "                print('Initial list {}'.format(B))\n",
    "                print('Should replace {}{}'.format(idx_01, idx_02))\n",
    "                for idx in sorted(indexes, reverse=True):\n",
    "                    del B[idx]\n",
    "                    new_list = B\n",
    "                    print('New list is {}'.format(new_list))\n",
    "            #Now new_list is the new list with 2 elements removed\n",
    "            #If sum of array is not divisible by 3, the array can't be splitted\n",
    "            if sum(new_list)%3 != 0:\n",
    "                return False\n",
    "            #Sum for each sub-array should be S/3\n",
    "            #Need to find 2 indices, idx_i and idx_j so that the prefix sums are the same\n",
    "            # Thus sum01 = sum(new_list)/3 and sum02 = 2*sum1\n",
    "            checkSum(new_list)\n",
    "            "
   ]
  },
  {
   "cell_type": "code",
   "execution_count": 94,
   "metadata": {},
   "outputs": [],
   "source": [
    "A = [1,3,4,2,2,2,1,1,2]"
   ]
  },
  {
   "cell_type": "code",
   "execution_count": 95,
   "metadata": {},
   "outputs": [
    {
     "name": "stdout",
     "output_type": "stream",
     "text": [
      "Initial list [1, 3, 4, 2, 2, 2, 1, 1, 2]\n",
      "Should replace 01\n",
      "New list is [1, 4, 2, 2, 2, 1, 1, 2]\n",
      "New list is [4, 2, 2, 2, 1, 1, 2]\n",
      "Initial list [1, 3, 4, 2, 2, 2, 1, 1, 2]\n",
      "Should replace 02\n",
      "New list is [1, 4, 2, 2, 2, 1, 1, 2]\n",
      "New list is [4, 2, 2, 2, 1, 1, 2]\n",
      "Initial list [1, 3, 4, 2, 2, 2, 1, 1, 2]\n",
      "Should replace 03\n",
      "New list is [1, 4, 2, 2, 2, 1, 1, 2]\n",
      "New list is [4, 2, 2, 2, 1, 1, 2]\n",
      "Initial list [1, 3, 4, 2, 2, 2, 1, 1, 2]\n",
      "Should replace 04\n",
      "New list is [1, 4, 2, 2, 2, 1, 1, 2]\n",
      "New list is [4, 2, 2, 2, 1, 1, 2]\n",
      "Initial list [1, 3, 4, 2, 2, 2, 1, 1, 2]\n",
      "Should replace 05\n",
      "New list is [1, 4, 2, 2, 2, 1, 1, 2]\n",
      "New list is [4, 2, 2, 2, 1, 1, 2]\n",
      "Initial list [1, 3, 4, 2, 2, 2, 1, 1, 2]\n",
      "Should replace 06\n",
      "New list is [1, 4, 2, 2, 2, 1, 1, 2]\n",
      "New list is [4, 2, 2, 2, 1, 1, 2]\n",
      "Initial list [1, 3, 4, 2, 2, 2, 1, 1, 2]\n",
      "Should replace 07\n",
      "New list is [1, 4, 2, 2, 2, 1, 1, 2]\n",
      "New list is [4, 2, 2, 2, 1, 1, 2]\n",
      "Initial list [1, 3, 4, 2, 2, 2, 1, 1, 2]\n",
      "Should replace 08\n",
      "New list is [1, 4, 2, 2, 2, 1, 1, 2]\n",
      "New list is [4, 2, 2, 2, 1, 1, 2]\n"
     ]
    },
    {
     "data": {
      "text/plain": [
       "False"
      ]
     },
     "execution_count": 95,
     "metadata": {},
     "output_type": "execute_result"
    }
   ],
   "source": [
    "solution(A)"
   ]
  },
  {
   "cell_type": "code",
   "execution_count": 96,
   "metadata": {},
   "outputs": [],
   "source": [
    "def checkSum(A):\n",
    "    \n",
    "    sum_total = sum(A)\n",
    "    print('Sum is {}'.format(sum_total))\n",
    "    sum_stack01 = sum_total//3\n",
    "    sum_stack02 = 2*sum_stack01\n",
    "    stack = 0\n",
    "    print('Stack sum {}'.format(sum_stack01))\n",
    "    check = True\n",
    "    \n",
    "    for idx in range(len(A)):\n",
    "        stack += A[idx]\n",
    "        \n",
    "        print('Stack is {}'.format(stack))\n",
    "        print('Check is {}'.format(check))\n",
    "        print('Condition 01 {}'.format(stack % sum_stack01 == 0))\n",
    "        if (stack % sum_stack01 == 0 and check == True):\n",
    "            check = False\n",
    "        elif(stack % sum_stack02 == 0):\n",
    "            return True\n",
    "    return False"
   ]
  },
  {
   "cell_type": "code",
   "execution_count": 97,
   "metadata": {},
   "outputs": [],
   "source": [
    "A = [1,3,2,2,1,1,2]"
   ]
  },
  {
   "cell_type": "code",
   "execution_count": 99,
   "metadata": {},
   "outputs": [
    {
     "name": "stdout",
     "output_type": "stream",
     "text": [
      "Sum is 12\n",
      "Stack sum 4\n",
      "Stack is 1\n",
      "Check is True\n",
      "Condition 01 False\n",
      "Stack is 4\n",
      "Check is True\n",
      "Condition 01 True\n",
      "Stack is 6\n",
      "Check is False\n",
      "Condition 01 False\n",
      "Stack is 8\n",
      "Check is False\n",
      "Condition 01 True\n"
     ]
    },
    {
     "data": {
      "text/plain": [
       "True"
      ]
     },
     "execution_count": 99,
     "metadata": {},
     "output_type": "execute_result"
    }
   ],
   "source": [
    "checkSum(A)"
   ]
  },
  {
   "cell_type": "code",
   "execution_count": 51,
   "metadata": {},
   "outputs": [
    {
     "name": "stdout",
     "output_type": "stream",
     "text": [
      "Initial list [1, 3, 4, 2, 2, 2, 1, 1, 2]\n",
      "Should replace 01\n",
      "New list is [1, 4, 2, 2, 2, 1, 1, 2]\n",
      "New list is [4, 2, 2, 2, 1, 1, 2]\n",
      "Initial list [1, 3, 4, 2, 2, 2, 1, 1, 2]\n",
      "Should replace 02\n",
      "New list is [1, 4, 2, 2, 2, 1, 1, 2]\n",
      "New list is [4, 2, 2, 2, 1, 1, 2]\n",
      "Initial list [1, 3, 4, 2, 2, 2, 1, 1, 2]\n",
      "Should replace 03\n",
      "New list is [1, 4, 2, 2, 2, 1, 1, 2]\n",
      "New list is [4, 2, 2, 2, 1, 1, 2]\n",
      "Initial list [1, 3, 4, 2, 2, 2, 1, 1, 2]\n",
      "Should replace 04\n",
      "New list is [1, 4, 2, 2, 2, 1, 1, 2]\n",
      "New list is [4, 2, 2, 2, 1, 1, 2]\n",
      "Initial list [1, 3, 4, 2, 2, 2, 1, 1, 2]\n",
      "Should replace 05\n",
      "New list is [1, 4, 2, 2, 2, 1, 1, 2]\n",
      "New list is [4, 2, 2, 2, 1, 1, 2]\n",
      "Initial list [1, 3, 4, 2, 2, 2, 1, 1, 2]\n",
      "Should replace 06\n",
      "New list is [1, 4, 2, 2, 2, 1, 1, 2]\n",
      "New list is [4, 2, 2, 2, 1, 1, 2]\n",
      "Initial list [1, 3, 4, 2, 2, 2, 1, 1, 2]\n",
      "Should replace 07\n",
      "New list is [1, 4, 2, 2, 2, 1, 1, 2]\n",
      "New list is [4, 2, 2, 2, 1, 1, 2]\n",
      "Initial list [1, 3, 4, 2, 2, 2, 1, 1, 2]\n",
      "Should replace 08\n",
      "New list is [1, 4, 2, 2, 2, 1, 1, 2]\n",
      "New list is [4, 2, 2, 2, 1, 1, 2]\n",
      "Initial list [1, 3, 4, 2, 2, 2, 1, 1, 2]\n",
      "Should replace 12\n",
      "New list is [1, 4, 2, 2, 2, 1, 1, 2]\n",
      "New list is [4, 2, 2, 2, 1, 1, 2]\n",
      "Initial list [1, 3, 4, 2, 2, 2, 1, 1, 2]\n",
      "Should replace 13\n",
      "New list is [1, 4, 2, 2, 2, 1, 1, 2]\n",
      "New list is [4, 2, 2, 2, 1, 1, 2]\n",
      "Initial list [1, 3, 4, 2, 2, 2, 1, 1, 2]\n",
      "Should replace 14\n",
      "New list is [1, 4, 2, 2, 2, 1, 1, 2]\n",
      "New list is [4, 2, 2, 2, 1, 1, 2]\n",
      "Initial list [1, 3, 4, 2, 2, 2, 1, 1, 2]\n",
      "Should replace 15\n",
      "New list is [1, 4, 2, 2, 2, 1, 1, 2]\n",
      "New list is [4, 2, 2, 2, 1, 1, 2]\n",
      "Initial list [1, 3, 4, 2, 2, 2, 1, 1, 2]\n",
      "Should replace 16\n",
      "New list is [1, 4, 2, 2, 2, 1, 1, 2]\n",
      "New list is [4, 2, 2, 2, 1, 1, 2]\n",
      "Initial list [1, 3, 4, 2, 2, 2, 1, 1, 2]\n",
      "Should replace 17\n",
      "New list is [1, 4, 2, 2, 2, 1, 1, 2]\n",
      "New list is [4, 2, 2, 2, 1, 1, 2]\n",
      "Initial list [1, 3, 4, 2, 2, 2, 1, 1, 2]\n",
      "Should replace 18\n",
      "New list is [1, 4, 2, 2, 2, 1, 1, 2]\n",
      "New list is [4, 2, 2, 2, 1, 1, 2]\n",
      "Initial list [1, 3, 4, 2, 2, 2, 1, 1, 2]\n",
      "Should replace 23\n",
      "New list is [1, 4, 2, 2, 2, 1, 1, 2]\n",
      "New list is [4, 2, 2, 2, 1, 1, 2]\n",
      "Initial list [1, 3, 4, 2, 2, 2, 1, 1, 2]\n",
      "Should replace 24\n",
      "New list is [1, 4, 2, 2, 2, 1, 1, 2]\n",
      "New list is [4, 2, 2, 2, 1, 1, 2]\n",
      "Initial list [1, 3, 4, 2, 2, 2, 1, 1, 2]\n",
      "Should replace 25\n",
      "New list is [1, 4, 2, 2, 2, 1, 1, 2]\n",
      "New list is [4, 2, 2, 2, 1, 1, 2]\n",
      "Initial list [1, 3, 4, 2, 2, 2, 1, 1, 2]\n",
      "Should replace 26\n",
      "New list is [1, 4, 2, 2, 2, 1, 1, 2]\n",
      "New list is [4, 2, 2, 2, 1, 1, 2]\n",
      "Initial list [1, 3, 4, 2, 2, 2, 1, 1, 2]\n",
      "Should replace 27\n",
      "New list is [1, 4, 2, 2, 2, 1, 1, 2]\n",
      "New list is [4, 2, 2, 2, 1, 1, 2]\n",
      "Initial list [1, 3, 4, 2, 2, 2, 1, 1, 2]\n",
      "Should replace 28\n",
      "New list is [1, 4, 2, 2, 2, 1, 1, 2]\n",
      "New list is [4, 2, 2, 2, 1, 1, 2]\n",
      "Initial list [1, 3, 4, 2, 2, 2, 1, 1, 2]\n",
      "Should replace 34\n",
      "New list is [1, 4, 2, 2, 2, 1, 1, 2]\n",
      "New list is [4, 2, 2, 2, 1, 1, 2]\n",
      "Initial list [1, 3, 4, 2, 2, 2, 1, 1, 2]\n",
      "Should replace 35\n",
      "New list is [1, 4, 2, 2, 2, 1, 1, 2]\n",
      "New list is [4, 2, 2, 2, 1, 1, 2]\n",
      "Initial list [1, 3, 4, 2, 2, 2, 1, 1, 2]\n",
      "Should replace 36\n",
      "New list is [1, 4, 2, 2, 2, 1, 1, 2]\n",
      "New list is [4, 2, 2, 2, 1, 1, 2]\n",
      "Initial list [1, 3, 4, 2, 2, 2, 1, 1, 2]\n",
      "Should replace 37\n",
      "New list is [1, 4, 2, 2, 2, 1, 1, 2]\n",
      "New list is [4, 2, 2, 2, 1, 1, 2]\n",
      "Initial list [1, 3, 4, 2, 2, 2, 1, 1, 2]\n",
      "Should replace 38\n",
      "New list is [1, 4, 2, 2, 2, 1, 1, 2]\n",
      "New list is [4, 2, 2, 2, 1, 1, 2]\n",
      "Initial list [1, 3, 4, 2, 2, 2, 1, 1, 2]\n",
      "Should replace 45\n",
      "New list is [1, 4, 2, 2, 2, 1, 1, 2]\n",
      "New list is [4, 2, 2, 2, 1, 1, 2]\n",
      "Initial list [1, 3, 4, 2, 2, 2, 1, 1, 2]\n",
      "Should replace 46\n",
      "New list is [1, 4, 2, 2, 2, 1, 1, 2]\n",
      "New list is [4, 2, 2, 2, 1, 1, 2]\n",
      "Initial list [1, 3, 4, 2, 2, 2, 1, 1, 2]\n",
      "Should replace 47\n",
      "New list is [1, 4, 2, 2, 2, 1, 1, 2]\n",
      "New list is [4, 2, 2, 2, 1, 1, 2]\n",
      "Initial list [1, 3, 4, 2, 2, 2, 1, 1, 2]\n",
      "Should replace 48\n",
      "New list is [1, 4, 2, 2, 2, 1, 1, 2]\n",
      "New list is [4, 2, 2, 2, 1, 1, 2]\n",
      "Initial list [1, 3, 4, 2, 2, 2, 1, 1, 2]\n",
      "Should replace 56\n",
      "New list is [1, 4, 2, 2, 2, 1, 1, 2]\n",
      "New list is [4, 2, 2, 2, 1, 1, 2]\n",
      "Initial list [1, 3, 4, 2, 2, 2, 1, 1, 2]\n",
      "Should replace 57\n",
      "New list is [1, 4, 2, 2, 2, 1, 1, 2]\n",
      "New list is [4, 2, 2, 2, 1, 1, 2]\n",
      "Initial list [1, 3, 4, 2, 2, 2, 1, 1, 2]\n",
      "Should replace 58\n",
      "New list is [1, 4, 2, 2, 2, 1, 1, 2]\n",
      "New list is [4, 2, 2, 2, 1, 1, 2]\n",
      "Initial list [1, 3, 4, 2, 2, 2, 1, 1, 2]\n",
      "Should replace 67\n",
      "New list is [1, 4, 2, 2, 2, 1, 1, 2]\n",
      "New list is [4, 2, 2, 2, 1, 1, 2]\n",
      "Initial list [1, 3, 4, 2, 2, 2, 1, 1, 2]\n",
      "Should replace 68\n",
      "New list is [1, 4, 2, 2, 2, 1, 1, 2]\n",
      "New list is [4, 2, 2, 2, 1, 1, 2]\n",
      "Initial list [1, 3, 4, 2, 2, 2, 1, 1, 2]\n",
      "Should replace 78\n",
      "New list is [1, 4, 2, 2, 2, 1, 1, 2]\n",
      "New list is [4, 2, 2, 2, 1, 1, 2]\n"
     ]
    }
   ],
   "source": [
    "for idx_01 in range(len(A)):\n",
    "        for idx_02 in range(idx_01 +1, len(A)):\n",
    "            B = A[:]\n",
    "            index_list = [idx_01, idx_02]\n",
    "            print('Initial list {}'.format(B))\n",
    "            print('Should replace {}{}'.format(idx_01, idx_02))\n",
    "            for idx in sorted(indexes, reverse=True):\n",
    "                del B[idx]\n",
    "                new_list = B\n",
    "                print('New list is {}'.format(new_list))\n"
   ]
  },
  {
   "cell_type": "code",
   "execution_count": 7,
   "metadata": {},
   "outputs": [
    {
     "name": "stdout",
     "output_type": "stream",
     "text": [
      "0 1\n",
      "0 2\n",
      "0 3\n",
      "1 2\n",
      "1 3\n",
      "2 3\n"
     ]
    }
   ],
   "source": [
    "for idx in range(0,4):\n",
    "    for idx2 in range(idx+1,4):\n",
    "        print(idx, idx2)"
   ]
  },
  {
   "cell_type": "code",
   "execution_count": 30,
   "metadata": {},
   "outputs": [],
   "source": [
    "A = [1,2,3,4,5,6,7,8]"
   ]
  },
  {
   "cell_type": "code",
   "execution_count": 31,
   "metadata": {},
   "outputs": [
    {
     "name": "stdout",
     "output_type": "stream",
     "text": [
      "idx 1\n",
      "New list is [1, 3, 4, 5, 6, 7, 8]\n",
      "idx 0\n",
      "New list is [3, 4, 5, 6, 7, 8]\n"
     ]
    }
   ],
   "source": [
    "indexes = [0,1]\n",
    "\n",
    "for idx in sorted(indexes, reverse=True):\n",
    "    print('idx {}'.format(idx))\n",
    "    del A[idx]\n",
    "    print('New list is {}'.format(A))"
   ]
  },
  {
   "cell_type": "code",
   "execution_count": 25,
   "metadata": {},
   "outputs": [
    {
     "data": {
      "text/plain": [
       "[2, 4, 5, 6, 7, 8]"
      ]
     },
     "execution_count": 25,
     "metadata": {},
     "output_type": "execute_result"
    }
   ],
   "source": [
    "A"
   ]
  },
  {
   "cell_type": "code",
   "execution_count": null,
   "metadata": {},
   "outputs": [],
   "source": []
  }
 ],
 "metadata": {
  "kernelspec": {
   "display_name": "Python 3",
   "language": "python",
   "name": "python3"
  },
  "language_info": {
   "codemirror_mode": {
    "name": "ipython",
    "version": 3
   },
   "file_extension": ".py",
   "mimetype": "text/x-python",
   "name": "python",
   "nbconvert_exporter": "python",
   "pygments_lexer": "ipython3",
   "version": "3.6.5"
  }
 },
 "nbformat": 4,
 "nbformat_minor": 2
}
